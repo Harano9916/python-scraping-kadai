{
  "nbformat": 4,
  "nbformat_minor": 0,
  "metadata": {
    "colab": {
      "provenance": []
    },
    "kernelspec": {
      "name": "python3",
      "display_name": "Python 3"
    },
    "language_info": {
      "name": "python"
    }
  },
  "cells": [
    {
      "cell_type": "code",
      "execution_count": 1,
      "metadata": {
        "colab": {
          "base_uri": "https://localhost:8080/"
        },
        "id": "rUDvfPowkCfW",
        "outputId": "be277459-a25e-4151-b416-3a633fe9bf7f"
      },
      "outputs": [
        {
          "output_type": "stream",
          "name": "stdout",
          "text": [
            "Requirement already satisfied: requests in /usr/local/lib/python3.10/dist-packages (2.32.3)\n",
            "Requirement already satisfied: beautifulsoup4 in /usr/local/lib/python3.10/dist-packages (4.12.3)\n",
            "Requirement already satisfied: charset-normalizer<4,>=2 in /usr/local/lib/python3.10/dist-packages (from requests) (3.4.0)\n",
            "Requirement already satisfied: idna<4,>=2.5 in /usr/local/lib/python3.10/dist-packages (from requests) (3.10)\n",
            "Requirement already satisfied: urllib3<3,>=1.21.1 in /usr/local/lib/python3.10/dist-packages (from requests) (2.2.3)\n",
            "Requirement already satisfied: certifi>=2017.4.17 in /usr/local/lib/python3.10/dist-packages (from requests) (2024.8.30)\n",
            "Requirement already satisfied: soupsieve>1.2 in /usr/local/lib/python3.10/dist-packages (from beautifulsoup4) (2.6)\n"
          ]
        }
      ],
      "source": [
        "!pip install requests beautifulsoup4"
      ]
    },
    {
      "cell_type": "code",
      "source": [
        "import requests\n",
        "from bs4 import BeautifulSoup"
      ],
      "metadata": {
        "id": "qeiP1rQPr7-R"
      },
      "execution_count": 2,
      "outputs": []
    },
    {
      "cell_type": "code",
      "source": [
        "url = 'https://news.yahoo.co.jp/articles/e58bc992e6542d9b2d4fc7744ba4ee76ea27657b'\n",
        "response = requests.get(url)\n",
        "soup = BeautifulSoup(response.text, 'html.parser')\n",
        "contents_element = soup.select_one('#uamods > div.article_body.highLightSearchTarget > div > p')\n",
        "contents_text = contents_element.text\n",
        "print(contents_text)"
      ],
      "metadata": {
        "colab": {
          "base_uri": "https://localhost:8080/"
        },
        "id": "-JSNA0pdsIGj",
        "outputId": "895c41ac-d995-4b15-c306-dbad42457914"
      },
      "execution_count": 3,
      "outputs": [
        {
          "output_type": "stream",
          "name": "stdout",
          "text": [
            "　自民党執行部は31日、萩生田光一元政調会長と平沢勝栄元復興相を「党所属国会議員」の扱いとしないよう党内に指示した。\n",
            "\n",
            "【ひと目でわかる】自民「裏金」候補の当落\n",
            "\n",
            "　派閥裏金問題に関わった両氏は衆院選で公認を得られず、無所属で当選。しかし、自民の衆院会派に同日入ったため、ルール上は「党所属国会議員」となるはずだった。\n",
            "\n",
            "　党執行部は非公認議員を公認議員と同様の位置付けにすれば世論の批判を浴びかねないと懸念し、異例の対応を取ることにしたとみられる。\n",
            "\n",
            "　自民内では(1)党籍を保有(2)衆参両院の自民会派に所属―する場合に「党所属国会議員」として扱うのがルール。萩生田、平沢両氏は党役職停止1年の処分を受けているが、党籍は保持している。さらに党執行部の要請を受けて31日に会派入りしたため、形式上は2要件を満たす形となった。\n",
            "\n",
            "　世耕弘成、西村康稔両氏も同時に会派入りしたが、離党勧告と党員資格停止の処分を受けているため、「党所属国会議員」とはならない。\n",
            "\n",
            "　「党所属国会議員」として扱われなければ、総裁選で出馬したり議員として投票したりできず、党大会の構成員にもなれない。党内からはやむを得ないとの意見の一方、「ルールを守らない党になってしまった」（関係者）と困惑する声も出ている。　\n"
          ]
        }
      ]
    }
  ]
}